{
 "cells": [
  {
   "cell_type": "code",
   "execution_count": 1,
   "metadata": {},
   "outputs": [],
   "source": [
    "from ECOSTRESS.L1B_GEO import L1BGEO"
   ]
  },
  {
   "cell_type": "code",
   "execution_count": 2,
   "metadata": {},
   "outputs": [
    {
     "data": {
      "text/plain": [
       "L1B_GEO(\"/Users/halverso/Downloads/ECOSTRESS_L1B_GEO_12383_006_20200911T125857_0601_01.h5\")"
      ]
     },
     "execution_count": 2,
     "metadata": {},
     "output_type": "execute_result"
    }
   ],
   "source": [
    "L1B_GEO_granule = L1BGEO(\"/Users/halverso/Downloads/ECOSTRESS_L1B_GEO_12383_006_20200911T125857_0601_01.h5\")\n",
    "L1B_GEO_granule"
   ]
  },
  {
   "cell_type": "code",
   "execution_count": 7,
   "metadata": {},
   "outputs": [
    {
     "data": {
      "text/plain": [
       "100.86900405911021"
      ]
     },
     "execution_count": 7,
     "metadata": {},
     "output_type": "execute_result"
    }
   ],
   "source": [
    "float(L1B_GEO_granule.product_metadata[\"AverageSolarZenith\"])"
   ]
  },
  {
   "cell_type": "code",
   "execution_count": null,
   "metadata": {},
   "outputs": [],
   "source": []
  }
 ],
 "metadata": {
  "kernelspec": {
   "display_name": "Python 3.9.12 ('ECOSTRESS')",
   "language": "python",
   "name": "python3"
  },
  "language_info": {
   "codemirror_mode": {
    "name": "ipython",
    "version": 3
   },
   "file_extension": ".py",
   "mimetype": "text/x-python",
   "name": "python",
   "nbconvert_exporter": "python",
   "pygments_lexer": "ipython3",
   "version": "3.9.12"
  },
  "orig_nbformat": 4,
  "vscode": {
   "interpreter": {
    "hash": "4e08e85b59643e54a80a0696e171a30078d787c5b6d33a9ca92d635067bcd738"
   }
  }
 },
 "nbformat": 4,
 "nbformat_minor": 2
}