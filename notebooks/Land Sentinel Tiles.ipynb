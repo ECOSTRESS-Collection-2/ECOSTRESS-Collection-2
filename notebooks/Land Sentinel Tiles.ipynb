{
 "cells": [
  {
   "cell_type": "code",
   "execution_count": 18,
   "metadata": {},
   "outputs": [],
   "source": [
    "import geopandas as gpd"
   ]
  },
  {
   "cell_type": "code",
   "execution_count": 19,
   "metadata": {},
   "outputs": [
    {
     "data": {
      "text/html": [
       "<div>\n",
       "<style scoped>\n",
       "    .dataframe tbody tr th:only-of-type {\n",
       "        vertical-align: middle;\n",
       "    }\n",
       "\n",
       "    .dataframe tbody tr th {\n",
       "        vertical-align: top;\n",
       "    }\n",
       "\n",
       "    .dataframe thead th {\n",
       "        text-align: right;\n",
       "    }\n",
       "</style>\n",
       "<table border=\"1\" class=\"dataframe\">\n",
       "  <thead>\n",
       "    <tr style=\"text-align: right;\">\n",
       "      <th></th>\n",
       "      <th>Name</th>\n",
       "      <th>geometry</th>\n",
       "    </tr>\n",
       "  </thead>\n",
       "  <tbody>\n",
       "    <tr>\n",
       "      <th>0</th>\n",
       "      <td>01CCV</td>\n",
       "      <td>POLYGON Z ((180.00000 -73.05974 0.00000, 176.8...</td>\n",
       "    </tr>\n",
       "    <tr>\n",
       "      <th>1</th>\n",
       "      <td>01CCV</td>\n",
       "      <td>POLYGON Z ((-180.00000 -72.07333 0.00000, -179...</td>\n",
       "    </tr>\n",
       "    <tr>\n",
       "      <th>2</th>\n",
       "      <td>01CDH</td>\n",
       "      <td>POLYGON Z ((180.00000 -83.80855 0.00000, 174.7...</td>\n",
       "    </tr>\n",
       "    <tr>\n",
       "      <th>3</th>\n",
       "      <td>01CDH</td>\n",
       "      <td>POLYGON Z ((-180.00000 -82.82590 0.00000, -176...</td>\n",
       "    </tr>\n",
       "    <tr>\n",
       "      <th>4</th>\n",
       "      <td>01CDJ</td>\n",
       "      <td>POLYGON Z ((180.00000 -82.91344 0.00000, 175.7...</td>\n",
       "    </tr>\n",
       "    <tr>\n",
       "      <th>...</th>\n",
       "      <td>...</td>\n",
       "      <td>...</td>\n",
       "    </tr>\n",
       "    <tr>\n",
       "      <th>56979</th>\n",
       "      <td>60XWP</td>\n",
       "      <td>POLYGON Z ((-180.00000 80.13994 0.00000, -177....</td>\n",
       "    </tr>\n",
       "    <tr>\n",
       "      <th>56980</th>\n",
       "      <td>60XWQ</td>\n",
       "      <td>POLYGON Z ((180.00000 80.05179 0.00000, 176.99...</td>\n",
       "    </tr>\n",
       "    <tr>\n",
       "      <th>56981</th>\n",
       "      <td>60XWQ</td>\n",
       "      <td>POLYGON Z ((-180.00000 81.03542 0.00000, -176....</td>\n",
       "    </tr>\n",
       "    <tr>\n",
       "      <th>56982</th>\n",
       "      <td>60XWR</td>\n",
       "      <td>POLYGON Z ((180.00000 80.94781 0.00000, 176.99...</td>\n",
       "    </tr>\n",
       "    <tr>\n",
       "      <th>56983</th>\n",
       "      <td>60XWR</td>\n",
       "      <td>POLYGON Z ((-180.00000 81.93139 0.00000, -176....</td>\n",
       "    </tr>\n",
       "  </tbody>\n",
       "</table>\n",
       "<p>56984 rows × 2 columns</p>\n",
       "</div>"
      ],
      "text/plain": [
       "        Name                                           geometry\n",
       "0      01CCV  POLYGON Z ((180.00000 -73.05974 0.00000, 176.8...\n",
       "1      01CCV  POLYGON Z ((-180.00000 -72.07333 0.00000, -179...\n",
       "2      01CDH  POLYGON Z ((180.00000 -83.80855 0.00000, 174.7...\n",
       "3      01CDH  POLYGON Z ((-180.00000 -82.82590 0.00000, -176...\n",
       "4      01CDJ  POLYGON Z ((180.00000 -82.91344 0.00000, 175.7...\n",
       "...      ...                                                ...\n",
       "56979  60XWP  POLYGON Z ((-180.00000 80.13994 0.00000, -177....\n",
       "56980  60XWQ  POLYGON Z ((180.00000 80.05179 0.00000, 176.99...\n",
       "56981  60XWQ  POLYGON Z ((-180.00000 81.03542 0.00000, -176....\n",
       "56982  60XWR  POLYGON Z ((180.00000 80.94781 0.00000, 176.99...\n",
       "56983  60XWR  POLYGON Z ((-180.00000 81.93139 0.00000, -176....\n",
       "\n",
       "[56984 rows x 2 columns]"
      ]
     },
     "execution_count": 19,
     "metadata": {},
     "output_type": "execute_result"
    }
   ],
   "source": [
    "sentinel_tiles = gpd.read_file(\"sentinel/sentinel2_tiles_world.geojson\")\n",
    "sentinel_tiles"
   ]
  },
  {
   "cell_type": "code",
   "execution_count": 20,
   "metadata": {},
   "outputs": [
    {
     "data": {
      "text/html": [
       "<div>\n",
       "<style scoped>\n",
       "    .dataframe tbody tr th:only-of-type {\n",
       "        vertical-align: middle;\n",
       "    }\n",
       "\n",
       "    .dataframe tbody tr th {\n",
       "        vertical-align: top;\n",
       "    }\n",
       "\n",
       "    .dataframe thead th {\n",
       "        text-align: right;\n",
       "    }\n",
       "</style>\n",
       "<table border=\"1\" class=\"dataframe\">\n",
       "  <thead>\n",
       "    <tr style=\"text-align: right;\">\n",
       "      <th></th>\n",
       "      <th>Name</th>\n",
       "      <th>geometry</th>\n",
       "    </tr>\n",
       "  </thead>\n",
       "  <tbody>\n",
       "    <tr>\n",
       "      <th>0</th>\n",
       "      <td>01CEH</td>\n",
       "      <td>POLYGON ((-177.00144 -82.85238, -169.14642 -82...</td>\n",
       "    </tr>\n",
       "    <tr>\n",
       "      <th>1</th>\n",
       "      <td>01CEJ</td>\n",
       "      <td>POLYGON ((-177.00128 -81.95638, -170.00719 -81...</td>\n",
       "    </tr>\n",
       "    <tr>\n",
       "      <th>2</th>\n",
       "      <td>01FBE</td>\n",
       "      <td>POLYGON ((180.00000 -50.59941, 178.76332 -50.5...</td>\n",
       "    </tr>\n",
       "    <tr>\n",
       "      <th>3</th>\n",
       "      <td>01FBF</td>\n",
       "      <td>POLYGON ((180.00000 -49.70001, 178.84184 -49.6...</td>\n",
       "    </tr>\n",
       "    <tr>\n",
       "      <th>4</th>\n",
       "      <td>01GBH</td>\n",
       "      <td>POLYGON ((180.00000 -47.89995, 178.98771 -47.8...</td>\n",
       "    </tr>\n",
       "    <tr>\n",
       "      <th>...</th>\n",
       "      <td>...</td>\n",
       "      <td>...</td>\n",
       "    </tr>\n",
       "    <tr>\n",
       "      <th>20438</th>\n",
       "      <td>60WWE</td>\n",
       "      <td>POLYGON ((-180.00000 72.07506, -179.80314 72.0...</td>\n",
       "    </tr>\n",
       "    <tr>\n",
       "      <th>20439</th>\n",
       "      <td>60WWS</td>\n",
       "      <td>POLYGON ((176.99958 64.92414, 179.32025 64.906...</td>\n",
       "    </tr>\n",
       "    <tr>\n",
       "      <th>20440</th>\n",
       "      <td>60WWT</td>\n",
       "      <td>POLYGON ((176.99956 65.82155, 179.40072 65.802...</td>\n",
       "    </tr>\n",
       "    <tr>\n",
       "      <th>20441</th>\n",
       "      <td>60WWU</td>\n",
       "      <td>POLYGON ((176.99955 66.71886, 179.48759 66.699...</td>\n",
       "    </tr>\n",
       "    <tr>\n",
       "      <th>20442</th>\n",
       "      <td>60WWV</td>\n",
       "      <td>POLYGON ((176.99953 67.61553, 179.58159 67.595...</td>\n",
       "    </tr>\n",
       "  </tbody>\n",
       "</table>\n",
       "<p>20443 rows × 2 columns</p>\n",
       "</div>"
      ],
      "text/plain": [
       "        Name                                           geometry\n",
       "0      01CEH  POLYGON ((-177.00144 -82.85238, -169.14642 -82...\n",
       "1      01CEJ  POLYGON ((-177.00128 -81.95638, -170.00719 -81...\n",
       "2      01FBE  POLYGON ((180.00000 -50.59941, 178.76332 -50.5...\n",
       "3      01FBF  POLYGON ((180.00000 -49.70001, 178.84184 -49.6...\n",
       "4      01GBH  POLYGON ((180.00000 -47.89995, 178.98771 -47.8...\n",
       "...      ...                                                ...\n",
       "20438  60WWE  POLYGON ((-180.00000 72.07506, -179.80314 72.0...\n",
       "20439  60WWS  POLYGON ((176.99958 64.92414, 179.32025 64.906...\n",
       "20440  60WWT  POLYGON ((176.99956 65.82155, 179.40072 65.802...\n",
       "20441  60WWU  POLYGON ((176.99955 66.71886, 179.48759 66.699...\n",
       "20442  60WWV  POLYGON ((176.99953 67.61553, 179.58159 67.595...\n",
       "\n",
       "[20443 rows x 2 columns]"
      ]
     },
     "execution_count": 20,
     "metadata": {},
     "output_type": "execute_result"
    }
   ],
   "source": [
    "land = gpd.read_file(\"/Users/halverso/Downloads/sentinel2_tiles_land.geojson\")\n",
    "land"
   ]
  },
  {
   "cell_type": "code",
   "execution_count": 22,
   "metadata": {},
   "outputs": [
    {
     "data": {
      "text/html": [
       "<div>\n",
       "<style scoped>\n",
       "    .dataframe tbody tr th:only-of-type {\n",
       "        vertical-align: middle;\n",
       "    }\n",
       "\n",
       "    .dataframe tbody tr th {\n",
       "        vertical-align: top;\n",
       "    }\n",
       "\n",
       "    .dataframe thead th {\n",
       "        text-align: right;\n",
       "    }\n",
       "</style>\n",
       "<table border=\"1\" class=\"dataframe\">\n",
       "  <thead>\n",
       "    <tr style=\"text-align: right;\">\n",
       "      <th></th>\n",
       "      <th>Name</th>\n",
       "      <th>geometry</th>\n",
       "      <th>Land</th>\n",
       "    </tr>\n",
       "  </thead>\n",
       "  <tbody>\n",
       "    <tr>\n",
       "      <th>0</th>\n",
       "      <td>01CCV</td>\n",
       "      <td>POLYGON Z ((180.00000 -73.05974 0.00000, 176.8...</td>\n",
       "      <td>False</td>\n",
       "    </tr>\n",
       "    <tr>\n",
       "      <th>1</th>\n",
       "      <td>01CCV</td>\n",
       "      <td>POLYGON Z ((-180.00000 -72.07333 0.00000, -179...</td>\n",
       "      <td>False</td>\n",
       "    </tr>\n",
       "    <tr>\n",
       "      <th>2</th>\n",
       "      <td>01CDH</td>\n",
       "      <td>POLYGON Z ((180.00000 -83.80855 0.00000, 174.7...</td>\n",
       "      <td>False</td>\n",
       "    </tr>\n",
       "    <tr>\n",
       "      <th>3</th>\n",
       "      <td>01CDH</td>\n",
       "      <td>POLYGON Z ((-180.00000 -82.82590 0.00000, -176...</td>\n",
       "      <td>False</td>\n",
       "    </tr>\n",
       "    <tr>\n",
       "      <th>4</th>\n",
       "      <td>01CDJ</td>\n",
       "      <td>POLYGON Z ((180.00000 -82.91344 0.00000, 175.7...</td>\n",
       "      <td>False</td>\n",
       "    </tr>\n",
       "    <tr>\n",
       "      <th>...</th>\n",
       "      <td>...</td>\n",
       "      <td>...</td>\n",
       "      <td>...</td>\n",
       "    </tr>\n",
       "    <tr>\n",
       "      <th>56979</th>\n",
       "      <td>60XWP</td>\n",
       "      <td>POLYGON Z ((-180.00000 80.13994 0.00000, -177....</td>\n",
       "      <td>False</td>\n",
       "    </tr>\n",
       "    <tr>\n",
       "      <th>56980</th>\n",
       "      <td>60XWQ</td>\n",
       "      <td>POLYGON Z ((180.00000 80.05179 0.00000, 176.99...</td>\n",
       "      <td>False</td>\n",
       "    </tr>\n",
       "    <tr>\n",
       "      <th>56981</th>\n",
       "      <td>60XWQ</td>\n",
       "      <td>POLYGON Z ((-180.00000 81.03542 0.00000, -176....</td>\n",
       "      <td>False</td>\n",
       "    </tr>\n",
       "    <tr>\n",
       "      <th>56982</th>\n",
       "      <td>60XWR</td>\n",
       "      <td>POLYGON Z ((180.00000 80.94781 0.00000, 176.99...</td>\n",
       "      <td>False</td>\n",
       "    </tr>\n",
       "    <tr>\n",
       "      <th>56983</th>\n",
       "      <td>60XWR</td>\n",
       "      <td>POLYGON Z ((-180.00000 81.93139 0.00000, -176....</td>\n",
       "      <td>False</td>\n",
       "    </tr>\n",
       "  </tbody>\n",
       "</table>\n",
       "<p>56984 rows × 3 columns</p>\n",
       "</div>"
      ],
      "text/plain": [
       "        Name                                           geometry   Land\n",
       "0      01CCV  POLYGON Z ((180.00000 -73.05974 0.00000, 176.8...  False\n",
       "1      01CCV  POLYGON Z ((-180.00000 -72.07333 0.00000, -179...  False\n",
       "2      01CDH  POLYGON Z ((180.00000 -83.80855 0.00000, 174.7...  False\n",
       "3      01CDH  POLYGON Z ((-180.00000 -82.82590 0.00000, -176...  False\n",
       "4      01CDJ  POLYGON Z ((180.00000 -82.91344 0.00000, 175.7...  False\n",
       "...      ...                                                ...    ...\n",
       "56979  60XWP  POLYGON Z ((-180.00000 80.13994 0.00000, -177....  False\n",
       "56980  60XWQ  POLYGON Z ((180.00000 80.05179 0.00000, 176.99...  False\n",
       "56981  60XWQ  POLYGON Z ((-180.00000 81.03542 0.00000, -176....  False\n",
       "56982  60XWR  POLYGON Z ((180.00000 80.94781 0.00000, 176.99...  False\n",
       "56983  60XWR  POLYGON Z ((-180.00000 81.93139 0.00000, -176....  False\n",
       "\n",
       "[56984 rows x 3 columns]"
      ]
     },
     "execution_count": 22,
     "metadata": {},
     "output_type": "execute_result"
    }
   ],
   "source": [
    "sentinel_tiles[\"Land\"] = sentinel_tiles[\"Name\"].apply(lambda tile_name: tile_name in land_names)\n",
    "sentinel_tiles[[\"Name\", \"Land\", \"geometry\"]]\n",
    "sentinel_tiles"
   ]
  },
  {
   "cell_type": "code",
   "execution_count": 11,
   "metadata": {},
   "outputs": [
    {
     "name": "stderr",
     "output_type": "stream",
     "text": [
      "/Users/halverso/anaconda3/envs/ECOSTRESS/lib/python3.9/site-packages/geopandas/io/file.py:362: FutureWarning: pandas.Int64Index is deprecated and will be removed from pandas in a future version. Use pandas.Index with the appropriate dtype instead.\n",
      "  pd.Int64Index,\n"
     ]
    }
   ],
   "source": [
    "sentinel_tiles.to_file(\"sentinel/sentinel2_tiles_world_with_land.geojson\")"
   ]
  },
  {
   "cell_type": "code",
   "execution_count": 23,
   "metadata": {},
   "outputs": [
    {
     "data": {
      "text/html": [
       "<div>\n",
       "<style scoped>\n",
       "    .dataframe tbody tr th:only-of-type {\n",
       "        vertical-align: middle;\n",
       "    }\n",
       "\n",
       "    .dataframe tbody tr th {\n",
       "        vertical-align: top;\n",
       "    }\n",
       "\n",
       "    .dataframe thead th {\n",
       "        text-align: right;\n",
       "    }\n",
       "</style>\n",
       "<table border=\"1\" class=\"dataframe\">\n",
       "  <thead>\n",
       "    <tr style=\"text-align: right;\">\n",
       "      <th></th>\n",
       "      <th>Name</th>\n",
       "      <th>geometry</th>\n",
       "      <th>Land</th>\n",
       "    </tr>\n",
       "  </thead>\n",
       "  <tbody>\n",
       "  </tbody>\n",
       "</table>\n",
       "</div>"
      ],
      "text/plain": [
       "Empty GeoDataFrame\n",
       "Columns: [Name, geometry, Land]\n",
       "Index: []"
      ]
     },
     "execution_count": 23,
     "metadata": {},
     "output_type": "execute_result"
    }
   ],
   "source": [
    "sentinel_tiles[sentinel_tiles.Land.apply(lambda name: name == \"10SDE\")]"
   ]
  },
  {
   "cell_type": "code",
   "execution_count": 26,
   "metadata": {},
   "outputs": [
    {
     "data": {
      "text/html": [
       "<div>\n",
       "<style scoped>\n",
       "    .dataframe tbody tr th:only-of-type {\n",
       "        vertical-align: middle;\n",
       "    }\n",
       "\n",
       "    .dataframe tbody tr th {\n",
       "        vertical-align: top;\n",
       "    }\n",
       "\n",
       "    .dataframe thead th {\n",
       "        text-align: right;\n",
       "    }\n",
       "</style>\n",
       "<table border=\"1\" class=\"dataframe\">\n",
       "  <thead>\n",
       "    <tr style=\"text-align: right;\">\n",
       "      <th></th>\n",
       "      <th>Name</th>\n",
       "      <th>geometry</th>\n",
       "      <th>Land</th>\n",
       "    </tr>\n",
       "  </thead>\n",
       "  <tbody>\n",
       "    <tr>\n",
       "      <th>9541</th>\n",
       "      <td>10SDE</td>\n",
       "      <td>POLYGON Z ((-124.11193 36.13974 0.00000, -122....</td>\n",
       "      <td>False</td>\n",
       "    </tr>\n",
       "  </tbody>\n",
       "</table>\n",
       "</div>"
      ],
      "text/plain": [
       "       Name                                           geometry   Land\n",
       "9541  10SDE  POLYGON Z ((-124.11193 36.13974 0.00000, -122....  False"
      ]
     },
     "execution_count": 26,
     "metadata": {},
     "output_type": "execute_result"
    }
   ],
   "source": [
    "sentinel_tiles[sentinel_tiles.Name.apply(lambda name: name == \"10SDE\")]"
   ]
  },
  {
   "cell_type": "code",
   "execution_count": 27,
   "metadata": {},
   "outputs": [
    {
     "data": {
      "text/html": [
       "<div>\n",
       "<style scoped>\n",
       "    .dataframe tbody tr th:only-of-type {\n",
       "        vertical-align: middle;\n",
       "    }\n",
       "\n",
       "    .dataframe tbody tr th {\n",
       "        vertical-align: top;\n",
       "    }\n",
       "\n",
       "    .dataframe thead th {\n",
       "        text-align: right;\n",
       "    }\n",
       "</style>\n",
       "<table border=\"1\" class=\"dataframe\">\n",
       "  <thead>\n",
       "    <tr style=\"text-align: right;\">\n",
       "      <th></th>\n",
       "      <th>Name</th>\n",
       "      <th>geometry</th>\n",
       "      <th>Land</th>\n",
       "    </tr>\n",
       "  </thead>\n",
       "  <tbody>\n",
       "    <tr>\n",
       "      <th>10505</th>\n",
       "      <td>11SPS</td>\n",
       "      <td>POLYGON Z ((-115.92423 33.43491 0.00000, -114....</td>\n",
       "      <td>True</td>\n",
       "    </tr>\n",
       "  </tbody>\n",
       "</table>\n",
       "</div>"
      ],
      "text/plain": [
       "        Name                                           geometry  Land\n",
       "10505  11SPS  POLYGON Z ((-115.92423 33.43491 0.00000, -114....  True"
      ]
     },
     "execution_count": 27,
     "metadata": {},
     "output_type": "execute_result"
    }
   ],
   "source": [
    "sentinel_tiles[sentinel_tiles.Name.apply(lambda name: name == \"11SPS\")]"
   ]
  },
  {
   "cell_type": "code",
   "execution_count": 31,
   "metadata": {},
   "outputs": [
    {
     "data": {
      "text/plain": [
       "False"
      ]
     },
     "execution_count": 31,
     "metadata": {},
     "output_type": "execute_result"
    }
   ],
   "source": [
    "sentinel_tiles[sentinel_tiles[\"Name\"].apply(lambda name: name == \"10SDE\")][\"Land\"].iloc[0]"
   ]
  },
  {
   "cell_type": "code",
   "execution_count": null,
   "metadata": {},
   "outputs": [],
   "source": []
  }
 ],
 "metadata": {
  "interpreter": {
   "hash": "108e2ac1c4ecd7a0b4fd539c90a94103ba4d48bee83d500003c32bc320578e05"
  },
  "kernelspec": {
   "display_name": "Python 3.9.9 ('ECOSTRESS')",
   "language": "python",
   "name": "python3"
  },
  "language_info": {
   "codemirror_mode": {
    "name": "ipython",
    "version": 3
   },
   "file_extension": ".py",
   "mimetype": "text/x-python",
   "name": "python",
   "nbconvert_exporter": "python",
   "pygments_lexer": "ipython3",
   "version": "3.9.10"
  },
  "orig_nbformat": 4
 },
 "nbformat": 4,
 "nbformat_minor": 2
}
