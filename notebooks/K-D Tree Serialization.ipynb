{
 "cells": [
  {
   "cell_type": "code",
   "execution_count": 1,
   "metadata": {},
   "outputs": [],
   "source": [
    "import msgpack\n",
    "import msgpack_numpy\n",
    "\n",
    "from rasters import KDTree, RasterGeolocation, RasterGrid, RasterGeometry\n",
    "from ECOSTRESS.L1B_GEO import L1BGEO\n",
    "from sentinel_tile_grid import sentinel_tile_grid"
   ]
  },
  {
   "cell_type": "code",
   "execution_count": 2,
   "metadata": {},
   "outputs": [
    {
     "data": {
      "text/plain": [
       "L1B_GEO(\"/Users/halverso/Downloads/ECOv002_L1B_GEO_31808_013_20240214T214551_0711_02.h5\")"
      ]
     },
     "execution_count": 2,
     "metadata": {},
     "output_type": "execute_result"
    }
   ],
   "source": [
    "filename = \"/Users/halverso/Downloads/ECOv002_L1B_GEO_31808_013_20240214T214551_0711_02.h5\"\n",
    "granule = L1BGEO(filename)\n",
    "granule"
   ]
  },
  {
   "cell_type": "code",
   "execution_count": 3,
   "metadata": {},
   "outputs": [
    {
     "data": {
      "text/plain": [
       "{\n",
       "  \"dimensions\": {\n",
       "    \"rows\": 5632,\n",
       "    \"cols\": 5400\n",
       "  },\n",
       "  \"bbox\": {\n",
       "    \"xmin\": -119.21698353323423,\n",
       "    \"ymin\": 31.176301692362856,\n",
       "    \"xmax\": -113.56526077504823,\n",
       "    \"ymax\": 36.460917716205074\n",
       "  },\n",
       "  \"crs\": \"EPSG:4326\",\n",
       "  \"resolution\": {\n",
       "    \"cell_width\": 0.0007505743653488694,\n",
       "    \"cell_height\": -0.0007505743653488694\n",
       "  }\n",
       "}"
      ]
     },
     "execution_count": 3,
     "metadata": {},
     "output_type": "execute_result"
    }
   ],
   "source": [
    "swath = granule.geometry\n",
    "swath"
   ]
  },
  {
   "cell_type": "code",
   "execution_count": 4,
   "metadata": {},
   "outputs": [
    {
     "data": {
      "text/plain": [
       "{\n",
       "  \"dimensions\": {\n",
       "    \"rows\": 1568,\n",
       "    \"cols\": 1568\n",
       "  },\n",
       "  \"bbox\": {\n",
       "    \"xmin\": 600000.0,\n",
       "    \"ymin\": 3590260.0,\n",
       "    \"xmax\": 709760.0,\n",
       "    \"ymax\": 3700020.0\n",
       "  },\n",
       "  \"crs\": \"EPSG:32611\",\n",
       "  \"resolution\": {\n",
       "    \"cell_width\": 70.0,\n",
       "    \"cell_height\": -70.0\n",
       "  }\n",
       "}"
      ]
     },
     "execution_count": 4,
     "metadata": {},
     "output_type": "execute_result"
    }
   ],
   "source": [
    "grid = sentinel_tile_grid.grid(\"11SPS\", 70)\n",
    "grid"
   ]
  },
  {
   "cell_type": "code",
   "execution_count": 5,
   "metadata": {},
   "outputs": [
    {
     "data": {
      "text/plain": [
       "<rasters.rasters.KDTree at 0x1693a2190>"
      ]
     },
     "execution_count": 5,
     "metadata": {},
     "output_type": "execute_result"
    }
   ],
   "source": [
    "kdtree = KDTree(\n",
    "    source_geometry=swath,\n",
    "    target_geometry=grid,\n",
    "    radius_of_influence=100\n",
    ")\n",
    "\n",
    "kdtree"
   ]
  },
  {
   "cell_type": "code",
   "execution_count": 6,
   "metadata": {},
   "outputs": [],
   "source": [
    "kdtree.save(\"kdtree.kdtree\")"
   ]
  },
  {
   "cell_type": "code",
   "execution_count": 7,
   "metadata": {},
   "outputs": [
    {
     "data": {
      "text/plain": [
       "<rasters.rasters.KDTree at 0x177892590>"
      ]
     },
     "execution_count": 7,
     "metadata": {},
     "output_type": "execute_result"
    }
   ],
   "source": [
    "reloaded_kdtree = KDTree.load(\"kdtree.kdtree\")\n",
    "reloaded_kdtree"
   ]
  },
  {
   "cell_type": "code",
   "execution_count": null,
   "metadata": {},
   "outputs": [],
   "source": [
    "kdtree_dict = kdtree.to_dict()\n",
    "kdtree_dict"
   ]
  },
  {
   "cell_type": "code",
   "execution_count": null,
   "metadata": {},
   "outputs": [],
   "source": [
    "reloaded_kdtree = KDTree.from_dict(kdtree_dict)\n",
    "reloaded_kdtree"
   ]
  },
  {
   "cell_type": "code",
   "execution_count": null,
   "metadata": {},
   "outputs": [],
   "source": [
    "kdtree_packed = msgpack.packb(kdtree_dict, default=msgpack_numpy.encode)"
   ]
  },
  {
   "cell_type": "code",
   "execution_count": null,
   "metadata": {},
   "outputs": [],
   "source": [
    "type(kdtree_packed)"
   ]
  },
  {
   "cell_type": "code",
   "execution_count": null,
   "metadata": {},
   "outputs": [],
   "source": [
    "reloaded_kdtree_from_msgpack = msgpack.unpackb(kdtree_packed, object_hook=msgpack_numpy.decode)\n",
    "reloaded_kdtree_from_msgpack"
   ]
  },
  {
   "cell_type": "code",
   "execution_count": null,
   "metadata": {},
   "outputs": [],
   "source": []
  }
 ],
 "metadata": {
  "kernelspec": {
   "display_name": "ECOSTRESS",
   "language": "python",
   "name": "python3"
  },
  "language_info": {
   "codemirror_mode": {
    "name": "ipython",
    "version": 3
   },
   "file_extension": ".py",
   "mimetype": "text/x-python",
   "name": "python",
   "nbconvert_exporter": "python",
   "pygments_lexer": "ipython3",
   "version": "3.11.6"
  }
 },
 "nbformat": 4,
 "nbformat_minor": 2
}
