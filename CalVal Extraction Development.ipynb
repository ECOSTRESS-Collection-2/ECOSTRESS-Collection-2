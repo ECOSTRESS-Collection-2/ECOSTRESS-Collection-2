{
 "cells": [
  {
   "cell_type": "code",
   "execution_count": 1,
   "metadata": {},
   "outputs": [],
   "source": [
    "from os.path import expanduser, basename\n",
    "import warnings\n",
    "from logging import getLogger\n",
    "import numpy as np\n",
    "import pandas as pd\n",
    "import rasters as rt\n",
    "import colored_logging as cl\n",
    "from ECOSTRESS import open_granule\n",
    "from ECOSTRESS.ECOSTRESS_gridded_tiled_granule import ECOSTRESSTiledGranule\n",
    "from ECOSTRESS.calval.tower import Tower\n",
    "from ECOSTRESS.calval.generate_3x3_subset_geometry import generate_3x3_subset_geometry\n",
    "from ECOSTRESS.calval.extract_tower_calval_from_C2_granule import extract_tower_calval_from_C2_granule\n",
    "from ECOSTRESS.calval.extract_tower_calval_from_C1_granule import extract_tower_calval_from_C1_granule"
   ]
  },
  {
   "cell_type": "code",
   "execution_count": 2,
   "metadata": {},
   "outputs": [],
   "source": [
    "logger = getLogger(__name__)"
   ]
  },
  {
   "cell_type": "code",
   "execution_count": 3,
   "metadata": {},
   "outputs": [],
   "source": [
    "C2_granule_filename = expanduser(\"~/Downloads/ECOv002_L3T_ET_ALEXI_06509_008_16RGV_20190829T170825_0700_01.zip\")\n",
    "tower_list_filename = \"ECOSTRESS/calval/2024-08-02_tower_short_list.csv\""
   ]
  },
  {
   "cell_type": "code",
   "execution_count": 4,
   "metadata": {},
   "outputs": [
    {
     "name": "stdout",
     "output_type": "stream",
     "text": [
      "[2024-08-16 14:43:03 INFO] loading Collection 2 L3T ET ALEXI: \u001b[34m/Users/halverso/Downloads/ECOv002_L3T_ET_ALEXI_06509_008_16RGV_20190829T170825_0700_01.zip\u001b[0m\n"
     ]
    },
    {
     "data": {
      "text/plain": [
       "L3TETALEXI(\"/Users/halverso/Downloads/ECOv002_L3T_ET_ALEXI_06509_008_16RGV_20190829T170825_0700_01.zip\")"
      ]
     },
     "execution_count": 4,
     "metadata": {},
     "output_type": "execute_result"
    }
   ],
   "source": [
    "C2_granule = open_granule(C2_granule_filename)\n",
    "C2_granule"
   ]
  },
  {
   "cell_type": "code",
   "execution_count": 5,
   "metadata": {},
   "outputs": [
    {
     "data": {
      "text/plain": [
       "'/Users/halverso/Downloads/ECOv002_L3T_ET_ALEXI_06509_008_16RGV_20190829T170825_0700_01.zip'"
      ]
     },
     "execution_count": 5,
     "metadata": {},
     "output_type": "execute_result"
    }
   ],
   "source": [
    "C2_granule.filename"
   ]
  },
  {
   "cell_type": "code",
   "execution_count": 6,
   "metadata": {},
   "outputs": [
    {
     "data": {
      "text/plain": [
       "'16RGV'"
      ]
     },
     "execution_count": 6,
     "metadata": {},
     "output_type": "execute_result"
    }
   ],
   "source": [
    "tile = C2_granule.tile\n",
    "tile"
   ]
  },
  {
   "cell_type": "code",
   "execution_count": 7,
   "metadata": {},
   "outputs": [
    {
     "data": {
      "text/html": [
       "<div>\n",
       "<style scoped>\n",
       "    .dataframe tbody tr th:only-of-type {\n",
       "        vertical-align: middle;\n",
       "    }\n",
       "\n",
       "    .dataframe tbody tr th {\n",
       "        vertical-align: top;\n",
       "    }\n",
       "\n",
       "    .dataframe thead th {\n",
       "        text-align: right;\n",
       "    }\n",
       "</style>\n",
       "<table border=\"1\" class=\"dataframe\">\n",
       "  <thead>\n",
       "    <tr style=\"text-align: right;\">\n",
       "      <th></th>\n",
       "      <th>tower</th>\n",
       "      <th>name</th>\n",
       "      <th>tile</th>\n",
       "      <th>latitude</th>\n",
       "      <th>longitude</th>\n",
       "    </tr>\n",
       "  </thead>\n",
       "  <tbody>\n",
       "    <tr>\n",
       "      <th>33</th>\n",
       "      <td>US-xJE</td>\n",
       "      <td>NEON Jones Ecological Research Center (JERC)</td>\n",
       "      <td>16RGV</td>\n",
       "      <td>31.1948</td>\n",
       "      <td>-84.4686</td>\n",
       "    </tr>\n",
       "  </tbody>\n",
       "</table>\n",
       "</div>"
      ],
      "text/plain": [
       "     tower                                          name   tile  latitude  \\\n",
       "33  US-xJE  NEON Jones Ecological Research Center (JERC)  16RGV   31.1948   \n",
       "\n",
       "    longitude  \n",
       "33   -84.4686  "
      ]
     },
     "execution_count": 7,
     "metadata": {},
     "output_type": "execute_result"
    }
   ],
   "source": [
    "tower_list = pd.read_csv(tower_list_filename)\n",
    "tower_list_at_tile = tower_list[tower_list.tile == tile]\n",
    "tower_list_at_tile"
   ]
  },
  {
   "cell_type": "code",
   "execution_count": 8,
   "metadata": {},
   "outputs": [
    {
     "data": {
      "text/plain": [
       "tower                                              US-xJE\n",
       "name         NEON Jones Ecological Research Center (JERC)\n",
       "tile                                                16RGV\n",
       "latitude                                          31.1948\n",
       "longitude                                        -84.4686\n",
       "Name: 33, dtype: object"
      ]
     },
     "execution_count": 8,
     "metadata": {},
     "output_type": "execute_result"
    }
   ],
   "source": [
    "tower_locations_row = tower_list_at_tile.iloc[0]\n",
    "tower_locations_row"
   ]
  },
  {
   "cell_type": "code",
   "execution_count": 9,
   "metadata": {},
   "outputs": [
    {
     "data": {
      "text/plain": [
       "POINT (-84.4686 31.1948)"
      ]
     },
     "execution_count": 9,
     "metadata": {},
     "output_type": "execute_result"
    }
   ],
   "source": [
    "tower = tower_locations_row.tower\n",
    "lat = tower_locations_row.latitude\n",
    "lon = tower_locations_row.longitude\n",
    "tower_point_latlon = rt.Point(lon, lat)\n",
    "tower_point_latlon"
   ]
  },
  {
   "cell_type": "code",
   "execution_count": 10,
   "metadata": {},
   "outputs": [
    {
     "data": {
      "text/plain": [
       "True"
      ]
     },
     "execution_count": 10,
     "metadata": {},
     "output_type": "execute_result"
    }
   ],
   "source": [
    "C2_granule.geometry.intersects(tower_point_latlon.to_crs(C2_granule.geometry.crs))"
   ]
  },
  {
   "cell_type": "code",
   "execution_count": 11,
   "metadata": {},
   "outputs": [
    {
     "data": {
      "text/plain": [
       "{\n",
       "  \"dimensions\": {\n",
       "    \"rows\": 3,\n",
       "    \"cols\": 3\n",
       "  },\n",
       "  \"bbox\": {\n",
       "    \"xmin\": 741120.0,\n",
       "    \"ymin\": 3453840.0,\n",
       "    \"xmax\": 741330.0,\n",
       "    \"ymax\": 3454050.0\n",
       "  },\n",
       "  \"crs\": \"EPSG:32616\",\n",
       "  \"resolution\": {\n",
       "    \"cell_width\": 70.0,\n",
       "    \"cell_height\": -70.0\n",
       "  }\n",
       "}"
      ]
     },
     "execution_count": 11,
     "metadata": {},
     "output_type": "execute_result"
    }
   ],
   "source": [
    "tower_row, tower_col = C2_granule.geometry.index_point(tower_point_latlon.to_crs(C2_granule.geometry.crs))\n",
    "rows, cols = C2_granule.geometry.shape\n",
    "subset_3x3 = C2_granule.geometry[max(tower_row - 1, 0):min(tower_row + 2, rows - 1),\n",
    "                max(tower_col - 1, 0):min(tower_col + 2, cols - 1)]\n",
    "subset_3x3\n"
   ]
  },
  {
   "cell_type": "code",
   "execution_count": 12,
   "metadata": {},
   "outputs": [
    {
     "data": {
      "text/plain": [
       "Tower(name=\"US-xJE\", lat=31.1948, lon=-84.4686)"
      ]
     },
     "execution_count": 12,
     "metadata": {},
     "output_type": "execute_result"
    }
   ],
   "source": [
    "tower = Tower(tower, lat, lon)\n",
    "tower"
   ]
  },
  {
   "cell_type": "code",
   "execution_count": 19,
   "metadata": {},
   "outputs": [
    {
     "name": "stdout",
     "output_type": "stream",
     "text": [
      "[2024-08-16 14:55:41 INFO] started reading L3T_ET_ALEXI ETdaily: \u001b[34mzip:///Users/halverso/Downloads/ECOv002_L3T_ET_ALEXI_06509_008_16RGV_20190829T170825_0700_01.zip!/ECOv002_L3T_ET_ALEXI_06509_008_16RGV_20190829T170825_0700_01/ECOv002_L3T_ET_ALEXI_06509_008_16RGV_20190829T170825_0700_01_ETdaily.tif\u001b[0m\n",
      "[2024-08-16 14:55:41 INFO] projecting L3T_ET_ALEXI ETdaily\n",
      "[2024-08-16 14:55:41 INFO] finished reading L3T_ET_ALEXI ETdaily (0.03s)\n",
      "[2024-08-16 14:55:41 INFO] \u001b[33mTower(name=\"US-xJE\", lat=31.1948, lon=-84.4686)\u001b[0m \u001b[32m2019-08-29 17:08:25\u001b[0m \u001b[33mETdaily\u001b[0m: 4.9057536125183105\n",
      "[2024-08-16 14:55:41 INFO] started reading L3T_ET_ALEXI ETdailyUncertainty: \u001b[34mzip:///Users/halverso/Downloads/ECOv002_L3T_ET_ALEXI_06509_008_16RGV_20190829T170825_0700_01.zip!/ECOv002_L3T_ET_ALEXI_06509_008_16RGV_20190829T170825_0700_01/ECOv002_L3T_ET_ALEXI_06509_008_16RGV_20190829T170825_0700_01_ETdailyUncertainty.tif\u001b[0m\n",
      "[2024-08-16 14:55:41 INFO] projecting L3T_ET_ALEXI ETdailyUncertainty\n",
      "[2024-08-16 14:55:41 INFO] finished reading L3T_ET_ALEXI ETdailyUncertainty (0.02s)\n",
      "[2024-08-16 14:55:41 INFO] \u001b[33mTower(name=\"US-xJE\", lat=31.1948, lon=-84.4686)\u001b[0m \u001b[32m2019-08-29 17:08:25\u001b[0m \u001b[33mETdailyUncertainty\u001b[0m: 0.053999997675418854\n"
     ]
    },
    {
     "data": {
      "text/html": [
       "<div>\n",
       "<style scoped>\n",
       "    .dataframe tbody tr th:only-of-type {\n",
       "        vertical-align: middle;\n",
       "    }\n",
       "\n",
       "    .dataframe tbody tr th {\n",
       "        vertical-align: top;\n",
       "    }\n",
       "\n",
       "    .dataframe thead th {\n",
       "        text-align: right;\n",
       "    }\n",
       "</style>\n",
       "<table border=\"1\" class=\"dataframe\">\n",
       "  <thead>\n",
       "    <tr style=\"text-align: right;\">\n",
       "      <th></th>\n",
       "      <th>tower</th>\n",
       "      <th>orbit</th>\n",
       "      <th>scene</th>\n",
       "      <th>tile</th>\n",
       "      <th>time_UTC</th>\n",
       "      <th>product</th>\n",
       "      <th>variable</th>\n",
       "      <th>med3x3</th>\n",
       "      <th>collection</th>\n",
       "      <th>FieldOfViewObstruction</th>\n",
       "      <th>OrbitCorrectionPerformed</th>\n",
       "      <th>QAPercentCloudCover</th>\n",
       "      <th>QAPercentGoodQuality</th>\n",
       "      <th>filename</th>\n",
       "      <th>lat</th>\n",
       "      <th>lon</th>\n",
       "    </tr>\n",
       "  </thead>\n",
       "  <tbody>\n",
       "    <tr>\n",
       "      <th>0</th>\n",
       "      <td>Tower(name=\"US-xJE\", lat=31.1948, lon=-84.4686)</td>\n",
       "      <td>6509</td>\n",
       "      <td>8</td>\n",
       "      <td>16RGV</td>\n",
       "      <td>2019-08-29 17:08:25</td>\n",
       "      <td>L3T_ET_ALEXI</td>\n",
       "      <td>ETdaily</td>\n",
       "      <td>4.905754</td>\n",
       "      <td>2</td>\n",
       "      <td>unknown</td>\n",
       "      <td>True</td>\n",
       "      <td>0.0</td>\n",
       "      <td>98.315236</td>\n",
       "      <td>/Users/halverso/Downloads/ECOv002_L3T_ET_ALEXI...</td>\n",
       "      <td>31.1948</td>\n",
       "      <td>-84.4686</td>\n",
       "    </tr>\n",
       "    <tr>\n",
       "      <th>1</th>\n",
       "      <td>Tower(name=\"US-xJE\", lat=31.1948, lon=-84.4686)</td>\n",
       "      <td>6509</td>\n",
       "      <td>8</td>\n",
       "      <td>16RGV</td>\n",
       "      <td>2019-08-29 17:08:25</td>\n",
       "      <td>L3T_ET_ALEXI</td>\n",
       "      <td>ETdailyUncertainty</td>\n",
       "      <td>0.054000</td>\n",
       "      <td>2</td>\n",
       "      <td>unknown</td>\n",
       "      <td>True</td>\n",
       "      <td>0.0</td>\n",
       "      <td>98.315236</td>\n",
       "      <td>/Users/halverso/Downloads/ECOv002_L3T_ET_ALEXI...</td>\n",
       "      <td>31.1948</td>\n",
       "      <td>-84.4686</td>\n",
       "    </tr>\n",
       "  </tbody>\n",
       "</table>\n",
       "</div>"
      ],
      "text/plain": [
       "                                             tower  orbit  scene   tile  \\\n",
       "0  Tower(name=\"US-xJE\", lat=31.1948, lon=-84.4686)   6509      8  16RGV   \n",
       "1  Tower(name=\"US-xJE\", lat=31.1948, lon=-84.4686)   6509      8  16RGV   \n",
       "\n",
       "             time_UTC       product            variable    med3x3  collection  \\\n",
       "0 2019-08-29 17:08:25  L3T_ET_ALEXI             ETdaily  4.905754           2   \n",
       "1 2019-08-29 17:08:25  L3T_ET_ALEXI  ETdailyUncertainty  0.054000           2   \n",
       "\n",
       "  FieldOfViewObstruction OrbitCorrectionPerformed  QAPercentCloudCover  \\\n",
       "0                unknown                     True                  0.0   \n",
       "1                unknown                     True                  0.0   \n",
       "\n",
       "   QAPercentGoodQuality                                           filename  \\\n",
       "0             98.315236  /Users/halverso/Downloads/ECOv002_L3T_ET_ALEXI...   \n",
       "1             98.315236  /Users/halverso/Downloads/ECOv002_L3T_ET_ALEXI...   \n",
       "\n",
       "       lat      lon  \n",
       "0  31.1948 -84.4686  \n",
       "1  31.1948 -84.4686  "
      ]
     },
     "execution_count": 19,
     "metadata": {},
     "output_type": "execute_result"
    }
   ],
   "source": [
    "C2_df = extract_tower_calval_from_C2_granule(C2_granule, tower)\n",
    "C2_df"
   ]
  },
  {
   "cell_type": "code",
   "execution_count": 14,
   "metadata": {},
   "outputs": [],
   "source": [
    "C1_filename = expanduser(\"~/Downloads/ALEXI_C1_example/ECOSTRESS_L3_ET_ALEXI_06509_008_20190829T170825_0601_02.h5\")"
   ]
  },
  {
   "cell_type": "code",
   "execution_count": 15,
   "metadata": {},
   "outputs": [
    {
     "name": "stdout",
     "output_type": "stream",
     "text": [
      "[2024-08-16 14:43:04 INFO] loading Collection 1 L3 ET ALEXI: \u001b[34m/Users/halverso/Downloads/ALEXI_C1_example/ECOSTRESS_L3_ET_ALEXI_06509_008_20190829T170825_0601_02.h5\u001b[0m\n",
      "[2024-08-16 14:43:04 INFO] searching pattern: \u001b[34m/Users/halverso/Downloads/ALEXI_C1_example/ECO*_L1B_GEO_06509_008_*_*_*.h5\u001b[0m\n",
      "[2024-08-16 14:43:04 INFO] found: \u001b[34m/Users/halverso/Downloads/ALEXI_C1_example/ECOSTRESS_L1B_GEO_06509_008_20190829T170825_0601_02.h5\u001b[0m\n",
      "[2024-08-16 14:43:04 INFO] searching pattern: \u001b[34m/Users/halverso/Downloads/ALEXI_C1_example/ECO*_L2_CLOUD_06509_008_*_*_*.h5\u001b[0m\n",
      "[2024-08-16 14:43:04 INFO] found: \u001b[34m/Users/halverso/Downloads/ALEXI_C1_example/ECOSTRESS_L2_CLOUD_06509_008_20190829T170825_0601_02.h5\u001b[0m\n"
     ]
    },
    {
     "data": {
      "text/plain": [
       "L3 disALEXI Granule\n",
       "{\n",
       "  \"L3 disALEXI\": \"/Users/halverso/Downloads/ALEXI_C1_example/ECOSTRESS_L3_ET_ALEXI_06509_008_20190829T170825_0601_02.h5\",\n",
       "  \"L2 CLOUD:\": \"/Users/halverso/Downloads/ALEXI_C1_example/ECOSTRESS_L2_CLOUD_06509_008_20190829T170825_0601_02.h5\",\n",
       "  \"L1B GEO:\": \"/Users/halverso/Downloads/ALEXI_C1_example/ECOSTRESS_L1B_GEO_06509_008_20190829T170825_0601_02.h5\"\n",
       "}"
      ]
     },
     "execution_count": 15,
     "metadata": {},
     "output_type": "execute_result"
    }
   ],
   "source": [
    "C1_granule = open_granule(C1_filename)\n",
    "C1_granule"
   ]
  },
  {
   "cell_type": "code",
   "execution_count": 22,
   "metadata": {},
   "outputs": [
    {
     "name": "stdout",
     "output_type": "stream",
     "text": [
      "[2024-08-16 14:56:23 INFO] dataset \u001b[33mEVAPOTRANSPIRATION ALEXI/ETdaily\u001b[0m read with dtype \u001b[36mfloat32\u001b[0m\n",
      "[2024-08-16 14:56:27 INFO] \u001b[33mTower(name=\"US-xJE\", lat=31.1948, lon=-84.4686)\u001b[0m \u001b[32m2019-08-29 17:08:25\u001b[0m \u001b[33mETdaily\u001b[0m: 5.34009313583374\n",
      "[2024-08-16 14:56:27 INFO] dataset \u001b[33mEVAPOTRANSPIRATION ALEXI/ETdailyUncertainty\u001b[0m read with dtype \u001b[36mfloat32\u001b[0m\n",
      "[2024-08-16 14:56:31 INFO] \u001b[33mTower(name=\"US-xJE\", lat=31.1948, lon=-84.4686)\u001b[0m \u001b[32m2019-08-29 17:08:25\u001b[0m \u001b[33mETdailyUncertainty\u001b[0m: 5.13399076461792\n",
      "[2024-08-16 14:56:31 INFO] dataset \u001b[33mEVAPOTRANSPIRATION ALEXI/QualityFlag\u001b[0m read with dtype \u001b[36muint16\u001b[0m\n",
      "[2024-08-16 14:56:36 INFO] \u001b[33mTower(name=\"US-xJE\", lat=31.1948, lon=-84.4686)\u001b[0m \u001b[32m2019-08-29 17:08:25\u001b[0m \u001b[33mQualityFlag\u001b[0m: 0.0\n"
     ]
    },
    {
     "data": {
      "text/html": [
       "<div>\n",
       "<style scoped>\n",
       "    .dataframe tbody tr th:only-of-type {\n",
       "        vertical-align: middle;\n",
       "    }\n",
       "\n",
       "    .dataframe tbody tr th {\n",
       "        vertical-align: top;\n",
       "    }\n",
       "\n",
       "    .dataframe thead th {\n",
       "        text-align: right;\n",
       "    }\n",
       "</style>\n",
       "<table border=\"1\" class=\"dataframe\">\n",
       "  <thead>\n",
       "    <tr style=\"text-align: right;\">\n",
       "      <th></th>\n",
       "      <th>tower</th>\n",
       "      <th>orbit</th>\n",
       "      <th>scene</th>\n",
       "      <th>tile</th>\n",
       "      <th>time_UTC</th>\n",
       "      <th>product</th>\n",
       "      <th>variable</th>\n",
       "      <th>med3x3</th>\n",
       "      <th>collection</th>\n",
       "      <th>FieldOfViewObstruction</th>\n",
       "      <th>OrbitCorrectionPerformed</th>\n",
       "      <th>QAPercentCloudCover</th>\n",
       "      <th>QAPercentGoodQuality</th>\n",
       "      <th>filename</th>\n",
       "      <th>lat</th>\n",
       "      <th>lon</th>\n",
       "    </tr>\n",
       "  </thead>\n",
       "  <tbody>\n",
       "    <tr>\n",
       "      <th>0</th>\n",
       "      <td>Tower(name=\"US-xJE\", lat=31.1948, lon=-84.4686)</td>\n",
       "      <td>6509</td>\n",
       "      <td>8</td>\n",
       "      <td></td>\n",
       "      <td>2019-08-29 17:08:25</td>\n",
       "      <td>L3_ET_ALEXI</td>\n",
       "      <td>ETdaily</td>\n",
       "      <td>5.340093</td>\n",
       "      <td>1</td>\n",
       "      <td></td>\n",
       "      <td></td>\n",
       "      <td></td>\n",
       "      <td></td>\n",
       "      <td>/Users/halverso/Downloads/ALEXI_C1_example/ECO...</td>\n",
       "      <td>31.1948</td>\n",
       "      <td>-84.4686</td>\n",
       "    </tr>\n",
       "    <tr>\n",
       "      <th>1</th>\n",
       "      <td>Tower(name=\"US-xJE\", lat=31.1948, lon=-84.4686)</td>\n",
       "      <td>6509</td>\n",
       "      <td>8</td>\n",
       "      <td></td>\n",
       "      <td>2019-08-29 17:08:25</td>\n",
       "      <td>L3_ET_ALEXI</td>\n",
       "      <td>ETdailyUncertainty</td>\n",
       "      <td>5.133991</td>\n",
       "      <td>1</td>\n",
       "      <td></td>\n",
       "      <td></td>\n",
       "      <td></td>\n",
       "      <td></td>\n",
       "      <td>/Users/halverso/Downloads/ALEXI_C1_example/ECO...</td>\n",
       "      <td>31.1948</td>\n",
       "      <td>-84.4686</td>\n",
       "    </tr>\n",
       "    <tr>\n",
       "      <th>2</th>\n",
       "      <td>Tower(name=\"US-xJE\", lat=31.1948, lon=-84.4686)</td>\n",
       "      <td>6509</td>\n",
       "      <td>8</td>\n",
       "      <td></td>\n",
       "      <td>2019-08-29 17:08:25</td>\n",
       "      <td>L3_ET_ALEXI</td>\n",
       "      <td>QualityFlag</td>\n",
       "      <td>0.000000</td>\n",
       "      <td>1</td>\n",
       "      <td></td>\n",
       "      <td></td>\n",
       "      <td></td>\n",
       "      <td></td>\n",
       "      <td>/Users/halverso/Downloads/ALEXI_C1_example/ECO...</td>\n",
       "      <td>31.1948</td>\n",
       "      <td>-84.4686</td>\n",
       "    </tr>\n",
       "  </tbody>\n",
       "</table>\n",
       "</div>"
      ],
      "text/plain": [
       "                                             tower  orbit  scene tile  \\\n",
       "0  Tower(name=\"US-xJE\", lat=31.1948, lon=-84.4686)   6509      8        \n",
       "1  Tower(name=\"US-xJE\", lat=31.1948, lon=-84.4686)   6509      8        \n",
       "2  Tower(name=\"US-xJE\", lat=31.1948, lon=-84.4686)   6509      8        \n",
       "\n",
       "             time_UTC      product            variable    med3x3  collection  \\\n",
       "0 2019-08-29 17:08:25  L3_ET_ALEXI             ETdaily  5.340093           1   \n",
       "1 2019-08-29 17:08:25  L3_ET_ALEXI  ETdailyUncertainty  5.133991           1   \n",
       "2 2019-08-29 17:08:25  L3_ET_ALEXI         QualityFlag  0.000000           1   \n",
       "\n",
       "  FieldOfViewObstruction OrbitCorrectionPerformed QAPercentCloudCover  \\\n",
       "0                                                                       \n",
       "1                                                                       \n",
       "2                                                                       \n",
       "\n",
       "  QAPercentGoodQuality                                           filename  \\\n",
       "0                       /Users/halverso/Downloads/ALEXI_C1_example/ECO...   \n",
       "1                       /Users/halverso/Downloads/ALEXI_C1_example/ECO...   \n",
       "2                       /Users/halverso/Downloads/ALEXI_C1_example/ECO...   \n",
       "\n",
       "       lat      lon  \n",
       "0  31.1948 -84.4686  \n",
       "1  31.1948 -84.4686  \n",
       "2  31.1948 -84.4686  "
      ]
     },
     "execution_count": 22,
     "metadata": {},
     "output_type": "execute_result"
    }
   ],
   "source": [
    "C1_df = extract_tower_calval_from_C1_granule(C1_granule, tower)\n",
    "C1_df"
   ]
  },
  {
   "cell_type": "code",
   "execution_count": 18,
   "metadata": {},
   "outputs": [
    {
     "data": {
      "text/html": [
       "<div>\n",
       "<style scoped>\n",
       "    .dataframe tbody tr th:only-of-type {\n",
       "        vertical-align: middle;\n",
       "    }\n",
       "\n",
       "    .dataframe tbody tr th {\n",
       "        vertical-align: top;\n",
       "    }\n",
       "\n",
       "    .dataframe thead th {\n",
       "        text-align: right;\n",
       "    }\n",
       "</style>\n",
       "<table border=\"1\" class=\"dataframe\">\n",
       "  <thead>\n",
       "    <tr style=\"text-align: right;\">\n",
       "      <th></th>\n",
       "      <th>tower</th>\n",
       "      <th>orbit</th>\n",
       "      <th>scene</th>\n",
       "      <th>tile</th>\n",
       "      <th>time_UTC</th>\n",
       "      <th>product</th>\n",
       "      <th>variable</th>\n",
       "      <th>med3x3</th>\n",
       "      <th>collection</th>\n",
       "      <th>FieldOfViewObstruction</th>\n",
       "      <th>OrbitCorrectionPerformed</th>\n",
       "      <th>QAPercentCloudCover</th>\n",
       "      <th>QAPercentGoodQuality</th>\n",
       "      <th>filename</th>\n",
       "      <th>lat</th>\n",
       "      <th>lon</th>\n",
       "    </tr>\n",
       "  </thead>\n",
       "  <tbody>\n",
       "  </tbody>\n",
       "</table>\n",
       "</div>"
      ],
      "text/plain": [
       "Empty DataFrame\n",
       "Columns: [tower, orbit, scene, tile, time_UTC, product, variable, med3x3, collection, FieldOfViewObstruction, OrbitCorrectionPerformed, QAPercentCloudCover, QAPercentGoodQuality, filename, lat, lon]\n",
       "Index: []"
      ]
     },
     "execution_count": 18,
     "metadata": {},
     "output_type": "execute_result"
    }
   ],
   "source": [
    "blank_df = pd.DataFrame([], columns=[\n",
    "        \"tower\",\n",
    "        \"orbit\",\n",
    "        \"scene\",\n",
    "        \"tile\",\n",
    "        \"time_UTC\",\n",
    "        \"product\",\n",
    "        \"variable\",\n",
    "        \"med3x3\",\n",
    "        \"collection\",\n",
    "        \"FieldOfViewObstruction\",\n",
    "        \"OrbitCorrectionPerformed\",\n",
    "        \"QAPercentCloudCover\",\n",
    "        \"QAPercentGoodQuality\",\n",
    "        \"filename\",\n",
    "        \"lat\",\n",
    "        \"lon\"\n",
    "    ])\n",
    "\n",
    "blank_df"
   ]
  },
  {
   "cell_type": "code",
   "execution_count": 21,
   "metadata": {},
   "outputs": [
    {
     "name": "stderr",
     "output_type": "stream",
     "text": [
      "/var/folders/hk/35_x93nx79vg1zmd2fy1vcbr0000gq/T/ipykernel_82889/2990690320.py:1: FutureWarning: The behavior of DataFrame concatenation with empty or all-NA entries is deprecated. In a future version, this will no longer exclude empty or all-NA columns when determining the result dtypes. To retain the old behavior, exclude the relevant entries before the concat operation.\n",
      "  calval_df = pd.concat([blank_df, C2_df])\n"
     ]
    },
    {
     "data": {
      "text/html": [
       "<div>\n",
       "<style scoped>\n",
       "    .dataframe tbody tr th:only-of-type {\n",
       "        vertical-align: middle;\n",
       "    }\n",
       "\n",
       "    .dataframe tbody tr th {\n",
       "        vertical-align: top;\n",
       "    }\n",
       "\n",
       "    .dataframe thead th {\n",
       "        text-align: right;\n",
       "    }\n",
       "</style>\n",
       "<table border=\"1\" class=\"dataframe\">\n",
       "  <thead>\n",
       "    <tr style=\"text-align: right;\">\n",
       "      <th></th>\n",
       "      <th>tower</th>\n",
       "      <th>orbit</th>\n",
       "      <th>scene</th>\n",
       "      <th>tile</th>\n",
       "      <th>time_UTC</th>\n",
       "      <th>product</th>\n",
       "      <th>variable</th>\n",
       "      <th>med3x3</th>\n",
       "      <th>collection</th>\n",
       "      <th>FieldOfViewObstruction</th>\n",
       "      <th>OrbitCorrectionPerformed</th>\n",
       "      <th>QAPercentCloudCover</th>\n",
       "      <th>QAPercentGoodQuality</th>\n",
       "      <th>filename</th>\n",
       "      <th>lat</th>\n",
       "      <th>lon</th>\n",
       "    </tr>\n",
       "  </thead>\n",
       "  <tbody>\n",
       "    <tr>\n",
       "      <th>0</th>\n",
       "      <td>Tower(name=\"US-xJE\", lat=31.1948, lon=-84.4686)</td>\n",
       "      <td>6509</td>\n",
       "      <td>8</td>\n",
       "      <td>16RGV</td>\n",
       "      <td>2019-08-29 17:08:25</td>\n",
       "      <td>L3T_ET_ALEXI</td>\n",
       "      <td>ETdaily</td>\n",
       "      <td>4.905754</td>\n",
       "      <td>2</td>\n",
       "      <td>unknown</td>\n",
       "      <td>True</td>\n",
       "      <td>0.0</td>\n",
       "      <td>98.315236</td>\n",
       "      <td>/Users/halverso/Downloads/ECOv002_L3T_ET_ALEXI...</td>\n",
       "      <td>31.1948</td>\n",
       "      <td>-84.4686</td>\n",
       "    </tr>\n",
       "    <tr>\n",
       "      <th>1</th>\n",
       "      <td>Tower(name=\"US-xJE\", lat=31.1948, lon=-84.4686)</td>\n",
       "      <td>6509</td>\n",
       "      <td>8</td>\n",
       "      <td>16RGV</td>\n",
       "      <td>2019-08-29 17:08:25</td>\n",
       "      <td>L3T_ET_ALEXI</td>\n",
       "      <td>ETdailyUncertainty</td>\n",
       "      <td>0.054000</td>\n",
       "      <td>2</td>\n",
       "      <td>unknown</td>\n",
       "      <td>True</td>\n",
       "      <td>0.0</td>\n",
       "      <td>98.315236</td>\n",
       "      <td>/Users/halverso/Downloads/ECOv002_L3T_ET_ALEXI...</td>\n",
       "      <td>31.1948</td>\n",
       "      <td>-84.4686</td>\n",
       "    </tr>\n",
       "  </tbody>\n",
       "</table>\n",
       "</div>"
      ],
      "text/plain": [
       "                                             tower orbit scene   tile  \\\n",
       "0  Tower(name=\"US-xJE\", lat=31.1948, lon=-84.4686)  6509     8  16RGV   \n",
       "1  Tower(name=\"US-xJE\", lat=31.1948, lon=-84.4686)  6509     8  16RGV   \n",
       "\n",
       "             time_UTC       product            variable    med3x3 collection  \\\n",
       "0 2019-08-29 17:08:25  L3T_ET_ALEXI             ETdaily  4.905754          2   \n",
       "1 2019-08-29 17:08:25  L3T_ET_ALEXI  ETdailyUncertainty  0.054000          2   \n",
       "\n",
       "  FieldOfViewObstruction OrbitCorrectionPerformed  QAPercentCloudCover  \\\n",
       "0                unknown                     True                  0.0   \n",
       "1                unknown                     True                  0.0   \n",
       "\n",
       "   QAPercentGoodQuality                                           filename  \\\n",
       "0             98.315236  /Users/halverso/Downloads/ECOv002_L3T_ET_ALEXI...   \n",
       "1             98.315236  /Users/halverso/Downloads/ECOv002_L3T_ET_ALEXI...   \n",
       "\n",
       "       lat      lon  \n",
       "0  31.1948 -84.4686  \n",
       "1  31.1948 -84.4686  "
      ]
     },
     "execution_count": 21,
     "metadata": {},
     "output_type": "execute_result"
    }
   ],
   "source": [
    "calval_df = pd.concat([blank_df, C2_df])\n",
    "calval_df"
   ]
  },
  {
   "cell_type": "code",
   "execution_count": 23,
   "metadata": {},
   "outputs": [
    {
     "data": {
      "text/html": [
       "<div>\n",
       "<style scoped>\n",
       "    .dataframe tbody tr th:only-of-type {\n",
       "        vertical-align: middle;\n",
       "    }\n",
       "\n",
       "    .dataframe tbody tr th {\n",
       "        vertical-align: top;\n",
       "    }\n",
       "\n",
       "    .dataframe thead th {\n",
       "        text-align: right;\n",
       "    }\n",
       "</style>\n",
       "<table border=\"1\" class=\"dataframe\">\n",
       "  <thead>\n",
       "    <tr style=\"text-align: right;\">\n",
       "      <th></th>\n",
       "      <th>tower</th>\n",
       "      <th>orbit</th>\n",
       "      <th>scene</th>\n",
       "      <th>tile</th>\n",
       "      <th>time_UTC</th>\n",
       "      <th>product</th>\n",
       "      <th>variable</th>\n",
       "      <th>med3x3</th>\n",
       "      <th>collection</th>\n",
       "      <th>FieldOfViewObstruction</th>\n",
       "      <th>OrbitCorrectionPerformed</th>\n",
       "      <th>QAPercentCloudCover</th>\n",
       "      <th>QAPercentGoodQuality</th>\n",
       "      <th>filename</th>\n",
       "      <th>lat</th>\n",
       "      <th>lon</th>\n",
       "    </tr>\n",
       "  </thead>\n",
       "  <tbody>\n",
       "    <tr>\n",
       "      <th>0</th>\n",
       "      <td>Tower(name=\"US-xJE\", lat=31.1948, lon=-84.4686)</td>\n",
       "      <td>6509</td>\n",
       "      <td>8</td>\n",
       "      <td>16RGV</td>\n",
       "      <td>2019-08-29 17:08:25</td>\n",
       "      <td>L3T_ET_ALEXI</td>\n",
       "      <td>ETdaily</td>\n",
       "      <td>4.905754</td>\n",
       "      <td>2</td>\n",
       "      <td>unknown</td>\n",
       "      <td>True</td>\n",
       "      <td>0.0</td>\n",
       "      <td>98.315236</td>\n",
       "      <td>/Users/halverso/Downloads/ECOv002_L3T_ET_ALEXI...</td>\n",
       "      <td>31.1948</td>\n",
       "      <td>-84.4686</td>\n",
       "    </tr>\n",
       "    <tr>\n",
       "      <th>1</th>\n",
       "      <td>Tower(name=\"US-xJE\", lat=31.1948, lon=-84.4686)</td>\n",
       "      <td>6509</td>\n",
       "      <td>8</td>\n",
       "      <td>16RGV</td>\n",
       "      <td>2019-08-29 17:08:25</td>\n",
       "      <td>L3T_ET_ALEXI</td>\n",
       "      <td>ETdailyUncertainty</td>\n",
       "      <td>0.054000</td>\n",
       "      <td>2</td>\n",
       "      <td>unknown</td>\n",
       "      <td>True</td>\n",
       "      <td>0.0</td>\n",
       "      <td>98.315236</td>\n",
       "      <td>/Users/halverso/Downloads/ECOv002_L3T_ET_ALEXI...</td>\n",
       "      <td>31.1948</td>\n",
       "      <td>-84.4686</td>\n",
       "    </tr>\n",
       "    <tr>\n",
       "      <th>0</th>\n",
       "      <td>Tower(name=\"US-xJE\", lat=31.1948, lon=-84.4686)</td>\n",
       "      <td>6509</td>\n",
       "      <td>8</td>\n",
       "      <td></td>\n",
       "      <td>2019-08-29 17:08:25</td>\n",
       "      <td>L3_ET_ALEXI</td>\n",
       "      <td>ETdaily</td>\n",
       "      <td>5.340093</td>\n",
       "      <td>1</td>\n",
       "      <td></td>\n",
       "      <td></td>\n",
       "      <td></td>\n",
       "      <td></td>\n",
       "      <td>/Users/halverso/Downloads/ALEXI_C1_example/ECO...</td>\n",
       "      <td>31.1948</td>\n",
       "      <td>-84.4686</td>\n",
       "    </tr>\n",
       "    <tr>\n",
       "      <th>1</th>\n",
       "      <td>Tower(name=\"US-xJE\", lat=31.1948, lon=-84.4686)</td>\n",
       "      <td>6509</td>\n",
       "      <td>8</td>\n",
       "      <td></td>\n",
       "      <td>2019-08-29 17:08:25</td>\n",
       "      <td>L3_ET_ALEXI</td>\n",
       "      <td>ETdailyUncertainty</td>\n",
       "      <td>5.133991</td>\n",
       "      <td>1</td>\n",
       "      <td></td>\n",
       "      <td></td>\n",
       "      <td></td>\n",
       "      <td></td>\n",
       "      <td>/Users/halverso/Downloads/ALEXI_C1_example/ECO...</td>\n",
       "      <td>31.1948</td>\n",
       "      <td>-84.4686</td>\n",
       "    </tr>\n",
       "    <tr>\n",
       "      <th>2</th>\n",
       "      <td>Tower(name=\"US-xJE\", lat=31.1948, lon=-84.4686)</td>\n",
       "      <td>6509</td>\n",
       "      <td>8</td>\n",
       "      <td></td>\n",
       "      <td>2019-08-29 17:08:25</td>\n",
       "      <td>L3_ET_ALEXI</td>\n",
       "      <td>QualityFlag</td>\n",
       "      <td>0.000000</td>\n",
       "      <td>1</td>\n",
       "      <td></td>\n",
       "      <td></td>\n",
       "      <td></td>\n",
       "      <td></td>\n",
       "      <td>/Users/halverso/Downloads/ALEXI_C1_example/ECO...</td>\n",
       "      <td>31.1948</td>\n",
       "      <td>-84.4686</td>\n",
       "    </tr>\n",
       "  </tbody>\n",
       "</table>\n",
       "</div>"
      ],
      "text/plain": [
       "                                             tower orbit scene   tile  \\\n",
       "0  Tower(name=\"US-xJE\", lat=31.1948, lon=-84.4686)  6509     8  16RGV   \n",
       "1  Tower(name=\"US-xJE\", lat=31.1948, lon=-84.4686)  6509     8  16RGV   \n",
       "0  Tower(name=\"US-xJE\", lat=31.1948, lon=-84.4686)  6509     8          \n",
       "1  Tower(name=\"US-xJE\", lat=31.1948, lon=-84.4686)  6509     8          \n",
       "2  Tower(name=\"US-xJE\", lat=31.1948, lon=-84.4686)  6509     8          \n",
       "\n",
       "             time_UTC       product            variable    med3x3 collection  \\\n",
       "0 2019-08-29 17:08:25  L3T_ET_ALEXI             ETdaily  4.905754          2   \n",
       "1 2019-08-29 17:08:25  L3T_ET_ALEXI  ETdailyUncertainty  0.054000          2   \n",
       "0 2019-08-29 17:08:25   L3_ET_ALEXI             ETdaily  5.340093          1   \n",
       "1 2019-08-29 17:08:25   L3_ET_ALEXI  ETdailyUncertainty  5.133991          1   \n",
       "2 2019-08-29 17:08:25   L3_ET_ALEXI         QualityFlag  0.000000          1   \n",
       "\n",
       "  FieldOfViewObstruction OrbitCorrectionPerformed QAPercentCloudCover  \\\n",
       "0                unknown                     True                 0.0   \n",
       "1                unknown                     True                 0.0   \n",
       "0                                                                       \n",
       "1                                                                       \n",
       "2                                                                       \n",
       "\n",
       "  QAPercentGoodQuality                                           filename  \\\n",
       "0            98.315236  /Users/halverso/Downloads/ECOv002_L3T_ET_ALEXI...   \n",
       "1            98.315236  /Users/halverso/Downloads/ECOv002_L3T_ET_ALEXI...   \n",
       "0                       /Users/halverso/Downloads/ALEXI_C1_example/ECO...   \n",
       "1                       /Users/halverso/Downloads/ALEXI_C1_example/ECO...   \n",
       "2                       /Users/halverso/Downloads/ALEXI_C1_example/ECO...   \n",
       "\n",
       "       lat      lon  \n",
       "0  31.1948 -84.4686  \n",
       "1  31.1948 -84.4686  \n",
       "0  31.1948 -84.4686  \n",
       "1  31.1948 -84.4686  \n",
       "2  31.1948 -84.4686  "
      ]
     },
     "execution_count": 23,
     "metadata": {},
     "output_type": "execute_result"
    }
   ],
   "source": [
    "calval_df = pd.concat([calval_df, C1_df])\n",
    "calval_df"
   ]
  },
  {
   "cell_type": "code",
   "execution_count": 24,
   "metadata": {},
   "outputs": [],
   "source": [
    "calval_df.to_csv(\"calval_preview.csv\")"
   ]
  },
  {
   "cell_type": "code",
   "execution_count": null,
   "metadata": {},
   "outputs": [],
   "source": []
  }
 ],
 "metadata": {
  "kernelspec": {
   "display_name": "ECOSTRESS",
   "language": "python",
   "name": "python3"
  },
  "language_info": {
   "codemirror_mode": {
    "name": "ipython",
    "version": 3
   },
   "file_extension": ".py",
   "mimetype": "text/x-python",
   "name": "python",
   "nbconvert_exporter": "python",
   "pygments_lexer": "ipython3",
   "version": "3.11.6"
  }
 },
 "nbformat": 4,
 "nbformat_minor": 2
}
